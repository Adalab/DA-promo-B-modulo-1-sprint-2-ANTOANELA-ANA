{
 "cells": [
  {
   "cell_type": "code",
   "execution_count": 1,
   "metadata": {},
   "outputs": [],
   "source": [
    "# ejercicio 1\n",
    "\n",
    "def calculadora(puntos):\n",
    "    if \"+\" in puntos:\n",
    "        puntos.split(\"+\")\n",
    "        suma = puntos[0] + puntos[1]\n",
    "        return operacion\n",
    "    elif \"*\" in puntos:\n",
    "        puntos.split(\"*\")\n",
    "        multiplicacion = len(puntos[0]) * puntos[1]\n",
    "        return multiplicacion\n",
    "    elif \"-\" in puntos:\n",
    "        puntos.split(\"-\")\n",
    "        resta = len(puntos[0]) - len(puntos[1])\n",
    "        resta = resta * \".\"\n",
    "        return resta\n",
    "    elif \"/\" in puntos:\n",
    "        puntos.split(\"/\")\n",
    "        division = len(puntos[0]) / len(puntos[1])\n",
    "        division = division * \".\"\n",
    "        return division\n"
   ]
  },
  {
   "cell_type": "code",
   "execution_count": null,
   "metadata": {},
   "outputs": [],
   "source": []
  },
  {
   "cell_type": "code",
   "execution_count": 1,
   "metadata": {},
   "outputs": [],
   "source": [
    "# ejercicio 2\n",
    "\n",
    "def despedida(año):\n",
    "    \n",
    "    año1 = año + 1\n",
    "    if año1 > 0: \n",
    "        \n",
    "        while len(set(str(año1))) < len(str(año1)):\n",
    "            año1 = año1 + 1\n",
    "        else:\n",
    "            año_desp = año1\n",
    "    else:\n",
    "        año_desp = \"no te verás nunca con tu amigo\"\n",
    "\n",
    "\n",
    "    return año_desp\n",
    "\n"
   ]
  },
  {
   "cell_type": "code",
   "execution_count": 2,
   "metadata": {},
   "outputs": [
    {
     "data": {
      "text/plain": [
       "2031"
      ]
     },
     "execution_count": 2,
     "metadata": {},
     "output_type": "execute_result"
    }
   ],
   "source": [
    "despedida(2020)"
   ]
  },
  {
   "cell_type": "code",
   "execution_count": 108,
   "metadata": {},
   "outputs": [],
   "source": [
    "# ejercicio 3\n",
    "def vida_evaporador(cont,perdida,umbral):\n",
    "    dias = 0\n",
    "    perdida_diaria = cont*perdida/100\n",
    "  \n",
    "    \n",
    "    while cont > s:\n",
    "        dias += 1\n",
    "\n",
    "        cont = cont - perdida_diaria\n",
    "    \n",
    "    return dias\n",
    "    "
   ]
  },
  {
   "cell_type": "code",
   "execution_count": 109,
   "metadata": {},
   "outputs": [
    {
     "data": {
      "text/plain": [
       "10"
      ]
     },
     "execution_count": 109,
     "metadata": {},
     "output_type": "execute_result"
    }
   ],
   "source": [
    "vida_evaporador(10,10,5)"
   ]
  },
  {
   "cell_type": "code",
   "execution_count": 50,
   "metadata": {},
   "outputs": [],
   "source": [
    "# ejercicio 4\n",
    "\n",
    "def primo(num):\n",
    "    \n",
    "    if num > 1:\n",
    "\n",
    "        for i in range(2,num):\n",
    "            if (num % i) == 0:\n",
    "                primo = False\n",
    "                break\n",
    "            else:\n",
    "                primo = True\n",
    "    else:\n",
    "        primo = False\n",
    "    return primo\n",
    "\n"
   ]
  },
  {
   "cell_type": "code",
   "execution_count": 51,
   "metadata": {},
   "outputs": [
    {
     "data": {
      "text/plain": [
       "False"
      ]
     },
     "execution_count": 51,
     "metadata": {},
     "output_type": "execute_result"
    }
   ],
   "source": [
    "primo(-1)"
   ]
  },
  {
   "cell_type": "code",
   "execution_count": 47,
   "metadata": {},
   "outputs": [],
   "source": [
    "# ejercicio 5\n",
    "\n",
    "def me_gusta(nombres):\n",
    "\n",
    "        if len(nombres) == 0:\n",
    "            mensaje = \"A nadie le gusta esto\"\n",
    "        elif len(nombres) == 1:\n",
    "            mensaje = f\"A {nombres[0]} le gusta esto\"\n",
    "        elif len(nombres) == 2:\n",
    "            mensaje = f\"A {nombres[0]}y {nombres[1]} les gusta esto\"\n",
    "        elif len(nombres) == 3:\n",
    "            mensaje = f\"A {nombres[0]}, {nombres[1]} y {nombres[2]} les gusta esto\"\n",
    "        else:\n",
    "            mensaje = f\"A {nombres[0]}, {nombres[1]} y {len(nombres) - 2} más les gusta esto\"\n",
    "    \n",
    "        return mensaje\n"
   ]
  },
  {
   "cell_type": "code",
   "execution_count": 49,
   "metadata": {},
   "outputs": [
    {
     "data": {
      "text/plain": [
       "'A Ana, Lucia y 5 más les gusta esto'"
      ]
     },
     "execution_count": 49,
     "metadata": {},
     "output_type": "execute_result"
    }
   ],
   "source": [
    "nombres = [\"Ana\", \"Lucia\", \"Pamela\", \"Carolina\", \"Fernanda\", \"Laura\", \"Ariana\"]\n",
    "me_gusta(nombres)"
   ]
  }
 ],
 "metadata": {
  "kernelspec": {
   "display_name": "Python 3.10.5 64-bit (windows store)",
   "language": "python",
   "name": "python3"
  },
  "language_info": {
   "codemirror_mode": {
    "name": "ipython",
    "version": 3
   },
   "file_extension": ".py",
   "mimetype": "text/x-python",
   "name": "python",
   "nbconvert_exporter": "python",
   "pygments_lexer": "ipython3",
   "version": "3.10.5"
  },
  "orig_nbformat": 4,
  "vscode": {
   "interpreter": {
    "hash": "16a6203e80ab692cd59eb2fed3c5840057343ed93097c3c3229af5f56100ad25"
   }
  }
 },
 "nbformat": 4,
 "nbformat_minor": 2
}

{
 "cells": [
  {
   "cell_type": "code",
   "execution_count": 30,
   "metadata": {},
   "outputs": [],
   "source": [
    "# Ejercicio 1: crear una calculadora de puntos\n",
    "\n",
    "def calculadora(puntos):\n",
    "    if \"+\" in puntos:\n",
    "        puntos = puntos.split(\" + \")\n",
    "        suma = puntos[0] + puntos[1]\n",
    "        return suma\n",
    "    elif \"*\" in puntos:\n",
    "        puntos = puntos.split(\" * \")\n",
    "        multiplicacion = len(puntos[0]) * puntos[1]\n",
    "        return multiplicacion\n",
    "    elif \"-\" in puntos:\n",
    "        puntos = puntos.split(\" - \")\n",
    "        resta = len(puntos[0]) - len(puntos[1])\n",
    "        resta = resta * \".\"\n",
    "        return resta\n",
    "    elif \"//\" in puntos:\n",
    "        puntos = puntos.split(\" // \")\n",
    "        division = int(len(puntos[0]) / len(puntos[1]))\n",
    "        division = division * \".\"\n",
    "        return division\n"
   ]
  },
  {
   "cell_type": "code",
   "execution_count": null,
   "metadata": {},
   "outputs": [],
   "source": [
    "# Probad la función con los siguientes casos: \n",
    "\n",
    "\"..... + ...............\" => \"....................\"\n",
    "\"..... - ...\" => \"..\"\n",
    "\"..... * ...\" => \"...............\"\n",
    "\"..... // ..\" => \"..\"\n",
    "\". // ..\" => \"\"\n",
    "\".. - ..\" => \"\""
   ]
  },
  {
   "cell_type": "code",
   "execution_count": 38,
   "metadata": {},
   "outputs": [
    {
     "data": {
      "text/plain": [
       "'...............'"
      ]
     },
     "execution_count": 38,
     "metadata": {},
     "output_type": "execute_result"
    }
   ],
   "source": [
    "puntos_multi = \"..... * ...\"\n",
    "calculadora(puntos_multi)"
   ]
  },
  {
   "cell_type": "code",
   "execution_count": 41,
   "metadata": {},
   "outputs": [],
   "source": [
    "# Ejercicio 2: Dado un año, encuentra el próximo cumpleaños o el año más cercano en el que verás a tu mejor amigo. El año siempre positivo.\n",
    "# El siguiente año que le felicites a tu mejor amigo no puede tener ningún dígito repetido.\n",
    "\n",
    "def despedida(año):\n",
    "    \n",
    "    año1 = año + 1\n",
    "    if año1 > 0: \n",
    "        \n",
    "        while len(set(str(año1))) < len(str(año1)):\n",
    "            año1 = año1 + 1\n",
    "        else:\n",
    "            año_desp = año1\n",
    "    else:\n",
    "        año_desp = \"No te verás nunca con tu amigo\"\n",
    "\n",
    "\n",
    "    return año_desp\n",
    "\n"
   ]
  },
  {
   "cell_type": "code",
   "execution_count": 43,
   "metadata": {},
   "outputs": [
    {
     "data": {
      "text/plain": [
       "7801"
      ]
     },
     "execution_count": 43,
     "metadata": {},
     "output_type": "execute_result"
    }
   ],
   "source": [
    "despedida(7712)"
   ]
  },
  {
   "cell_type": "code",
   "execution_count": 9,
   "metadata": {},
   "outputs": [],
   "source": [
    "# Ejercicio 3: Tenéis que crear un función que chequee la vida de un evaporador que contiene un gas.\n",
    "\n",
    "\n",
    "def vida_evaporador(cont,perdida,umbral):\n",
    "    \n",
    "    dias = 0\n",
    "    umbral = (cont*umbral)/100\n",
    " \n",
    "    \n",
    "    while cont >= umbral:\n",
    "    \n",
    "        cont -= (cont*perdida)/100\n",
    "        dias += 1\n",
    "\n",
    "        \n",
    "    \n",
    "    return dias\n",
    "    "
   ]
  },
  {
   "cell_type": "code",
   "execution_count": 10,
   "metadata": {},
   "outputs": [
    {
     "data": {
      "text/plain": [
       "29"
      ]
     },
     "execution_count": 10,
     "metadata": {},
     "output_type": "execute_result"
    }
   ],
   "source": [
    "vida_evaporador(10,10,5)"
   ]
  },
  {
   "cell_type": "code",
   "execution_count": 44,
   "metadata": {},
   "outputs": [],
   "source": [
    "# Ejercicio 3: Solución sin usar el contenido del evaporador\n",
    "\n",
    "def vida_evaporador2(perdida,umbral):\n",
    "    \n",
    "    dias = 0\n",
    "    cont = 1\n",
    " \n",
    "    \n",
    "    while cont >= umbral/100:\n",
    "        \n",
    "        dias += 1\n",
    "        \n",
    "        cont = cont*(1-perdida/100)\n",
    "\n",
    "       \n",
    "    \n",
    "    return dias"
   ]
  },
  {
   "cell_type": "code",
   "execution_count": 45,
   "metadata": {},
   "outputs": [
    {
     "data": {
      "text/plain": [
       "22"
      ]
     },
     "execution_count": 45,
     "metadata": {},
     "output_type": "execute_result"
    }
   ],
   "source": [
    "vida_evaporador2(10,10)"
   ]
  },
  {
   "cell_type": "code",
   "execution_count": 46,
   "metadata": {},
   "outputs": [],
   "source": [
    "# Ejercicio 4: Definid una función que tome como argumento un entero y devuelva True o False dependiendo de si el número es primo o no.\n",
    "\n",
    "def primo(num):\n",
    "    \n",
    "    if num > 1:\n",
    "\n",
    "        for i in range(2,num):\n",
    "            if (num % i) == 0:\n",
    "            \n",
    "                return False\n",
    "\n",
    "            else:\n",
    "                \n",
    "                return True\n",
    "    else:\n",
    "        \n",
    "        return False\n",
    "\n"
   ]
  },
  {
   "cell_type": "code",
   "execution_count": 47,
   "metadata": {},
   "outputs": [
    {
     "data": {
      "text/plain": [
       "True"
      ]
     },
     "execution_count": 47,
     "metadata": {},
     "output_type": "execute_result"
    }
   ],
   "source": [
    "numero = 7\n",
    "primo(numero)"
   ]
  },
  {
   "cell_type": "code",
   "execution_count": 48,
   "metadata": {},
   "outputs": [],
   "source": [
    "# Ejercicio 4: otra solución posible usando break\n",
    "\n",
    "def primo(num):\n",
    "    \n",
    "    if num > 1:\n",
    "\n",
    "        for i in range(2,num):\n",
    "            if (num % i) == 0:\n",
    "                primo = False\n",
    "                break\n",
    "                \n",
    "\n",
    "            else:\n",
    "                \n",
    "                primo = True\n",
    "    else:\n",
    "        \n",
    "        primo = False\n",
    "    \n",
    "    return primo"
   ]
  },
  {
   "cell_type": "code",
   "execution_count": 53,
   "metadata": {},
   "outputs": [
    {
     "data": {
      "text/plain": [
       "True"
      ]
     },
     "execution_count": 53,
     "metadata": {},
     "output_type": "execute_result"
    }
   ],
   "source": [
    "primo(5099)"
   ]
  },
  {
   "cell_type": "code",
   "execution_count": 54,
   "metadata": {},
   "outputs": [],
   "source": [
    "# Ejercicio 5: Cread una función que toma una lista que contiene los nombres de las personas a las que les gusta un artículo. \n",
    "\n",
    "def me_gusta(nombres):\n",
    "\n",
    "        if len(nombres) == 0:\n",
    "            mensaje = \"A nadie le gusta esto\"\n",
    "        elif len(nombres) == 1:\n",
    "            mensaje = f\"A {nombres[0]} le gusta esto\"\n",
    "        elif len(nombres) == 2:\n",
    "            mensaje = f\"A {nombres[0]}y {nombres[1]} les gusta esto\"\n",
    "        elif len(nombres) == 3:\n",
    "            mensaje = f\"A {nombres[0]}, {nombres[1]} y {nombres[2]} les gusta esto\"\n",
    "        else:\n",
    "            mensaje = f\"A {nombres[0]}, {nombres[1]} y {len(nombres) - 2} más les gusta esto\"\n",
    "    \n",
    "        return mensaje\n"
   ]
  },
  {
   "cell_type": "code",
   "execution_count": 55,
   "metadata": {},
   "outputs": [
    {
     "data": {
      "text/plain": [
       "'A Ana, Lucia y 5 más les gusta esto'"
      ]
     },
     "execution_count": 55,
     "metadata": {},
     "output_type": "execute_result"
    }
   ],
   "source": [
    "nombres = [\"Ana\", \"Lucia\", \"Pamela\", \"Carolina\", \"Fernanda\", \"Laura\", \"Ariana\"]\n",
    "me_gusta(nombres)"
   ]
  }
 ],
 "metadata": {
  "kernelspec": {
   "display_name": "Python 3.9.7 ('base')",
   "language": "python",
   "name": "python3"
  },
  "language_info": {
   "codemirror_mode": {
    "name": "ipython",
    "version": 3
   },
   "file_extension": ".py",
   "mimetype": "text/x-python",
   "name": "python",
   "nbconvert_exporter": "python",
   "pygments_lexer": "ipython3",
   "version": "3.9.7"
  },
  "orig_nbformat": 4,
  "vscode": {
   "interpreter": {
    "hash": "27c7e03acb1b122aa51a4d19f361f8e7d3205f0602534c325e31713df737767e"
   }
  }
 },
 "nbformat": 4,
 "nbformat_minor": 2
}

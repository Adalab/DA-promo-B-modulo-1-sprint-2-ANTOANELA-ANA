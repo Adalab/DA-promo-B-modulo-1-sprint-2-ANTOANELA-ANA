{
 "cells": [
  {
   "cell_type": "code",
   "execution_count": 1,
   "metadata": {},
   "outputs": [],
   "source": [
    "# ejercicio 1\n",
    "\n",
    "def calculadora(puntos):\n",
    "    if \"+\" in puntos:\n",
    "        puntos.split(\"+\")\n",
    "        suma = puntos[0] + puntos[1]\n",
    "        return operacion\n",
    "    elif \"*\" in puntos:\n",
    "        puntos.split(\"*\")\n",
    "        multiplicacion = len(puntos[0]) * puntos[1]\n",
    "        return multiplicacion\n",
    "    elif \"-\" in puntos:\n",
    "        puntos.split(\"-\")\n",
    "        resta = len(puntos[0]) - len(puntos[1])\n",
    "        resta = resta * \".\"\n",
    "        return resta\n",
    "    elif \"/\" in puntos:\n",
    "        puntos.split(\"/\")\n",
    "        division = len(puntos[0]) / len(puntos[1])\n",
    "        division = division * \".\"\n",
    "        return division\n"
   ]
  },
  {
   "cell_type": "code",
   "execution_count": null,
   "metadata": {},
   "outputs": [],
   "source": []
  },
  {
   "cell_type": "code",
   "execution_count": 1,
   "metadata": {},
   "outputs": [],
   "source": [
    "# ejercicio 2\n",
    "\n",
    "def despedida(año):\n",
    "    \n",
    "    año1 = año + 1\n",
    "    if año1 > 0: \n",
    "        \n",
    "        while len(set(str(año1))) < len(str(año1)):\n",
    "            año1 = año1 + 1\n",
    "        else:\n",
    "            año_desp = año1\n",
    "    else:\n",
    "        año_desp = \"no te verás nunca con tu amigo\"\n",
    "\n",
    "\n",
    "    return año_desp\n",
    "\n"
   ]
  },
  {
   "cell_type": "code",
   "execution_count": 2,
   "metadata": {},
   "outputs": [
    {
     "data": {
      "text/plain": [
       "2031"
      ]
     },
     "execution_count": 2,
     "metadata": {},
     "output_type": "execute_result"
    }
   ],
   "source": [
    "despedida(2020)"
   ]
  },
  {
   "cell_type": "code",
   "execution_count": 9,
   "metadata": {},
   "outputs": [],
   "source": [
    "# ejercicio 3\n",
    "\n",
    "\n",
    "def vida_evaporador(cont,perdida,umbral):\n",
    "    \n",
    "    dias = 0\n",
    "    umbral = (cont*umbral)/100\n",
    " \n",
    "    \n",
    "    while cont >= umbral:\n",
    "    \n",
    "        cont -= (cont*perdida)/100\n",
    "        dias += 1\n",
    "\n",
    "        \n",
    "    \n",
    "    return dias\n",
    "    "
   ]
  },
  {
   "cell_type": "code",
   "execution_count": 10,
   "metadata": {},
   "outputs": [
    {
     "data": {
      "text/plain": [
       "29"
      ]
     },
     "execution_count": 10,
     "metadata": {},
     "output_type": "execute_result"
    }
   ],
   "source": [
    "vida_evaporador(10,10,5)"
   ]
  },
  {
   "cell_type": "code",
   "execution_count": 14,
   "metadata": {},
   "outputs": [],
   "source": [
    "# ejercicio 4\n",
    "\n",
    "def primo(num):\n",
    "    \n",
    "    if num > 1:\n",
    "\n",
    "        for i in range(2,num):\n",
    "            if (num % i) == 0:\n",
    "            \n",
    "                return False\n",
    "\n",
    "            else:\n",
    "                \n",
    "                return True\n",
    "    else:\n",
    "        \n",
    "        return False\n",
    "\n"
   ]
  },
  {
   "cell_type": "code",
   "execution_count": 18,
   "metadata": {},
   "outputs": [],
   "source": [
    "# ejercicio 4 OTRA SOLUCION\n",
    "\n",
    "def primo(num):\n",
    "    \n",
    "    if num > 1:\n",
    "\n",
    "        for i in range(2,num):\n",
    "            if (num % i) == 0:\n",
    "                primo = False\n",
    "                break\n",
    "                \n",
    "\n",
    "            else:\n",
    "                \n",
    "                primo = True\n",
    "    else:\n",
    "        \n",
    "        primo = False\n",
    "    \n",
    "    return primo"
   ]
  },
  {
   "cell_type": "code",
   "execution_count": 19,
   "metadata": {},
   "outputs": [
    {
     "ename": "UnboundLocalError",
     "evalue": "local variable 'primo' referenced before assignment",
     "output_type": "error",
     "traceback": [
      "\u001b[0;31m---------------------------------------------------------------------------\u001b[0m",
      "\u001b[0;31mUnboundLocalError\u001b[0m                         Traceback (most recent call last)",
      "\u001b[0;32m/tmp/ipykernel_12600/1822507791.py\u001b[0m in \u001b[0;36m<module>\u001b[0;34m\u001b[0m\n\u001b[0;32m----> 1\u001b[0;31m \u001b[0mprimo\u001b[0m\u001b[0;34m(\u001b[0m\u001b[0;36m10\u001b[0m\u001b[0;34m)\u001b[0m\u001b[0;34m\u001b[0m\u001b[0;34m\u001b[0m\u001b[0m\n\u001b[0m",
      "\u001b[0;32m/tmp/ipykernel_12600/1049296836.py\u001b[0m in \u001b[0;36mprimo\u001b[0;34m(num)\u001b[0m\n\u001b[1;32m     18\u001b[0m         \u001b[0mprimo\u001b[0m \u001b[0;34m=\u001b[0m \u001b[0;32mFalse\u001b[0m\u001b[0;34m\u001b[0m\u001b[0;34m\u001b[0m\u001b[0m\n\u001b[1;32m     19\u001b[0m \u001b[0;34m\u001b[0m\u001b[0m\n\u001b[0;32m---> 20\u001b[0;31m     \u001b[0;32mreturn\u001b[0m \u001b[0mprimo\u001b[0m\u001b[0;34m\u001b[0m\u001b[0;34m\u001b[0m\u001b[0m\n\u001b[0m",
      "\u001b[0;31mUnboundLocalError\u001b[0m: local variable 'primo' referenced before assignment"
     ]
    }
   ],
   "source": [
    "primo(10)"
   ]
  },
  {
   "cell_type": "code",
   "execution_count": 47,
   "metadata": {},
   "outputs": [],
   "source": [
    "# ejercicio 5\n",
    "\n",
    "def me_gusta(nombres):\n",
    "\n",
    "        if len(nombres) == 0:\n",
    "            mensaje = \"A nadie le gusta esto\"\n",
    "        elif len(nombres) == 1:\n",
    "            mensaje = f\"A {nombres[0]} le gusta esto\"\n",
    "        elif len(nombres) == 2:\n",
    "            mensaje = f\"A {nombres[0]}y {nombres[1]} les gusta esto\"\n",
    "        elif len(nombres) == 3:\n",
    "            mensaje = f\"A {nombres[0]}, {nombres[1]} y {nombres[2]} les gusta esto\"\n",
    "        else:\n",
    "            mensaje = f\"A {nombres[0]}, {nombres[1]} y {len(nombres) - 2} más les gusta esto\"\n",
    "    \n",
    "        return mensaje\n"
   ]
  },
  {
   "cell_type": "code",
   "execution_count": 49,
   "metadata": {},
   "outputs": [
    {
     "data": {
      "text/plain": [
       "'A Ana, Lucia y 5 más les gusta esto'"
      ]
     },
     "execution_count": 49,
     "metadata": {},
     "output_type": "execute_result"
    }
   ],
   "source": [
    "nombres = [\"Ana\", \"Lucia\", \"Pamela\", \"Carolina\", \"Fernanda\", \"Laura\", \"Ariana\"]\n",
    "me_gusta(nombres)"
   ]
  }
 ],
 "metadata": {
  "kernelspec": {
   "display_name": "Python 3.9.7 ('base')",
   "language": "python",
   "name": "python3"
  },
  "language_info": {
   "codemirror_mode": {
    "name": "ipython",
    "version": 3
   },
   "file_extension": ".py",
   "mimetype": "text/x-python",
   "name": "python",
   "nbconvert_exporter": "python",
   "pygments_lexer": "ipython3",
   "version": "3.9.7"
  },
  "orig_nbformat": 4,
  "vscode": {
   "interpreter": {
    "hash": "27c7e03acb1b122aa51a4d19f361f8e7d3205f0602534c325e31713df737767e"
   }
  }
 },
 "nbformat": 4,
 "nbformat_minor": 2
}

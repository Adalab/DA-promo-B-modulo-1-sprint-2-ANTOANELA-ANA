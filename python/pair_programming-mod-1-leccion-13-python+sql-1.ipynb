{
 "cells": [
  {
   "cell_type": "code",
   "execution_count": 26,
   "metadata": {},
   "outputs": [
    {
     "name": "stdout",
     "output_type": "stream",
     "text": [
      "['information_schema', 'leccion-1-sql', 'leccion-10-sql', 'leccion-11-sql', 'leccion-12-sql', 'leccion-13-sql', 'leccion-14-sql', 'leccion-2-sql', 'leccion-3-sql', 'leccion-4-sql', 'leccion-5-sql', 'leccion-6-sql', 'leccion-7-sql', 'leccion-8-sql', 'leccion-9-sql', 'mysql', 'northwind', 'performance_schema', 'sakila', 'sys', 'tienda', 'world']\n"
     ]
    },
    {
     "data": {
      "text/plain": [
       "16"
      ]
     },
     "execution_count": 26,
     "metadata": {},
     "output_type": "execute_result"
    }
   ],
   "source": [
    "# Bases de datos de mi servidor\n",
    "\n",
    "import mysql.connector\n",
    "\n",
    "mydb = mysql.connector.connect(\n",
    "                  user='root', password='AlumnaAdalab',\n",
    "                  host='127.0.0.1',\n",
    "                  database='tienda')\n",
    "\n",
    "mycursor = mydb.cursor()\n",
    "\n",
    "mycursor.execute(\"SHOW DATABASES\")\n",
    "\n",
    "bbdd = []\n",
    "\n",
    "for x in mycursor:\n",
    "  bbdd.append(x[0])\n",
    "\n",
    "print(bbdd)\n",
    "\n",
    "bbdd.index('northwind')\n"
   ]
  },
  {
   "cell_type": "code",
   "execution_count": 14,
   "metadata": {},
   "outputs": [
    {
     "name": "stdout",
     "output_type": "stream",
     "text": [
      "['categories', 'customer_customer_demo', 'customer_demographics', 'customers', 'employee_territories', 'employees', 'order_details', 'orders', 'products', 'region', 'shippers', 'suppliers', 'territories']\n"
     ]
    }
   ],
   "source": [
    "# Cuales son las tablas de mi BBDD\n",
    "\n",
    "import mysql.connector\n",
    "\n",
    "mydb = mysql.connector.connect(\n",
    "                  user='root', password='AlumnaAdalab',\n",
    "                  host='127.0.0.1',\n",
    "                  database='northwind')\n",
    "\n",
    "mycursor = mydb.cursor()\n",
    "\n",
    "mycursor.execute(\"SHOW TABLES\")\n",
    "\n",
    "\n",
    "list_tablas = []\n",
    "for x in mycursor:\n",
    "    list_tablas.append(x[0])\n",
    "\n",
    "print(list_tablas)   "
   ]
  },
  {
   "cell_type": "code",
   "execution_count": 31,
   "metadata": {},
   "outputs": [
    {
     "name": "stdout",
     "output_type": "stream",
     "text": [
      "CMySQLCursor: SELECT * FROM COLUMNS WHERE TABLE_NAME =..\n"
     ]
    }
   ],
   "source": [
    "import mysql.connector\n",
    "\n",
    "mydb = mysql.connector.connect(\n",
    "host=\"localhost\",\n",
    "user=\"root\",\n",
    "password=\"AlumnaAdalab\",\n",
    "database=\"INFORMATION_SCHEMA\"\n",
    ")\n",
    "\n",
    "mycursor = mydb.cursor()\n",
    "\n",
    "mycursor.execute(f\"SELECT * FROM COLUMNS WHERE TABLE_NAME = 'employees'\")\n",
    "\n",
    "\n",
    "for i in mycursor:\n",
    "    print(i)\n",
    "\n",
    "\n",
    "\n",
    "\n",
    "   \n",
    "\n"
   ]
  },
  {
   "cell_type": "code",
   "execution_count": null,
   "metadata": {},
   "outputs": [],
   "source": [
    "for tabla in list_tablas:\n",
    "\n",
    "    myresult = mycursor.execute(f\"SELECT * FROM COLUMNS WHERE TABLE_NAME = '{tabla}'\")\n",
    "\n",
    "    for i in myresult:\n",
    "\n",
    "        if i == 'northwind':\n",
    "\n",
    "         print(myresult)\n"
   ]
  },
  {
   "cell_type": "code",
   "execution_count": null,
   "metadata": {},
   "outputs": [],
   "source": [
    "#QUERY PARA QUE DE LOS NOMBRES DE LAS COLUMNAS SIN HACER TODO EL LIO ANTERIOR\n",
    "#SELECT TABLE_NAME, COLUMN_NAME FROM COLUMNS WHERE TABLE_SCHEMA = 'northwind' ;"
   ]
  },
  {
   "cell_type": "code",
   "execution_count": 9,
   "metadata": {},
   "outputs": [
    {
     "name": "stdout",
     "output_type": "stream",
     "text": [
      "(10865, 17250.0)\n"
     ]
    }
   ],
   "source": [
    "# Extraer el primer pedido donde se ha gastado más\n",
    "\n",
    "import mysql.connector\n",
    "\n",
    "mydb = mysql.connector.connect(\n",
    "host=\"localhost\",\n",
    "user=\"root\",\n",
    "password=\"AlumnaAdalab\",\n",
    "database=\"northwind\"\n",
    ")\n",
    "\n",
    "mycursor = mydb.cursor()\n",
    "\n",
    "query = ('SELECT order_id, SUM(unit_price*quantity) FROM order_details GROUP BY order_id  ORDER BY  SUM(unit_price*quantity) DESC;')\n",
    "\n",
    "mycursor.execute(query)\n",
    "\n",
    "myresult = mycursor.fetchone()\n",
    "\n",
    "print(myresult)"
   ]
  }
 ],
 "metadata": {
  "kernelspec": {
   "display_name": "Python 3.9.7 ('base')",
   "language": "python",
   "name": "python3"
  },
  "language_info": {
   "codemirror_mode": {
    "name": "ipython",
    "version": 3
   },
   "file_extension": ".py",
   "mimetype": "text/x-python",
   "name": "python",
   "nbconvert_exporter": "python",
   "pygments_lexer": "ipython3",
   "version": "3.9.7"
  },
  "orig_nbformat": 4,
  "vscode": {
   "interpreter": {
    "hash": "0620710c65b0f5ccc651a2aa8870ae0eb4c70492424a8d7866846658189426a3"
   }
  }
 },
 "nbformat": 4,
 "nbformat_minor": 2
}

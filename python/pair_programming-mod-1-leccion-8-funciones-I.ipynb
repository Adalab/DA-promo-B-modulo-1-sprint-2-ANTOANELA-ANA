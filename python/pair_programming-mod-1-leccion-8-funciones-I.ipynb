{
 "cells": [
  {
   "cell_type": "code",
   "execution_count": 25,
   "metadata": {},
   "outputs": [],
   "source": [
    "# EJERCICIO 1: crea una función que sume los paràmetros a y b (strings) con condiciones #\n",
    "\n",
    "def suma_numeros(a,b):\n",
    "    if a == \"\" and b == \"\":\n",
    "        suma = \"0\"\n",
    "    elif a == \"\":\n",
    "        suma = b\n",
    "    elif b == \"\":\n",
    "        suma = a\n",
    "    else:\n",
    "        suma = int(a) + int(b)\n",
    "   \n",
    "    return str(suma)\n"
   ]
  },
  {
   "cell_type": "code",
   "execution_count": 5,
   "metadata": {},
   "outputs": [],
   "source": [
    "# EJERCICIO 1: Otra forma de resolverlo es tomando el len():\n",
    "\n",
    "def suma_numeros(a,b):\n",
    "    if len(a) == 0 and len(b) == 0:\n",
    "     return \"0\"\n",
    "    elif len(a) == 0:\n",
    "       return b\n",
    "    elif len(b) == 0:\n",
    "        return a\n",
    "    else:\n",
    "        return str(int(a)+int(b))"
   ]
  },
  {
   "cell_type": "code",
   "execution_count": 6,
   "metadata": {},
   "outputs": [
    {
     "data": {
      "text/plain": [
       "'5'"
      ]
     },
     "execution_count": 6,
     "metadata": {},
     "output_type": "execute_result"
    }
   ],
   "source": [
    "suma_numeros(\"\",\"5\")"
   ]
  },
  {
   "cell_type": "code",
   "execution_count": 7,
   "metadata": {},
   "outputs": [
    {
     "data": {
      "text/plain": [
       "'39'"
      ]
     },
     "execution_count": 7,
     "metadata": {},
     "output_type": "execute_result"
    }
   ],
   "source": [
    "suma_numeros(\"34\",\"5\")"
   ]
  },
  {
   "cell_type": "code",
   "execution_count": 8,
   "metadata": {},
   "outputs": [
    {
     "data": {
      "text/plain": [
       "0"
      ]
     },
     "execution_count": 8,
     "metadata": {},
     "output_type": "execute_result"
    }
   ],
   "source": [
    "suma_numeros(\"\",\"\")"
   ]
  },
  {
   "cell_type": "code",
   "execution_count": 9,
   "metadata": {},
   "outputs": [
    {
     "data": {
      "text/plain": [
       "'2'"
      ]
     },
     "execution_count": 9,
     "metadata": {},
     "output_type": "execute_result"
    }
   ],
   "source": [
    "suma_numeros(\"2\",\"\")"
   ]
  },
  {
   "cell_type": "code",
   "execution_count": 10,
   "metadata": {},
   "outputs": [
    {
     "data": {
      "text/plain": [
       "'-2'"
      ]
     },
     "execution_count": 10,
     "metadata": {},
     "output_type": "execute_result"
    }
   ],
   "source": [
    "suma_numeros(\"-5\",\"3\")"
   ]
  },
  {
   "cell_type": "code",
   "execution_count": 11,
   "metadata": {},
   "outputs": [],
   "source": [
    "# EJERCICIO 2: crear una función que compare pares de enteros de listas y devuelva el más grande #\n",
    "\n",
    "def comparar_enteros(a,b):\n",
    "    lista_mayores = []\n",
    "\n",
    "    lista = list(zip(a,b))\n",
    "        \n",
    "    for i in lista:\n",
    "\n",
    "        if i[0] > i [1]:\n",
    "            lista_mayores.append(i[0])\n",
    "        else:\n",
    "            lista_mayores.append(i[1])\n",
    "\n",
    "\n",
    "    return lista_mayores\n"
   ]
  },
  {
   "cell_type": "code",
   "execution_count": 12,
   "metadata": {},
   "outputs": [],
   "source": [
    "#Probad la función para las siguientes listas: \n",
    "\n",
    "arr1 = [13, 64, 15, 17, 88]\n",
    "arr2 = [23, 14, 53, 17, 80]\n",
    "\n",
    "#resultado = [23, 64, 53, 17, 88]\n"
   ]
  },
  {
   "cell_type": "code",
   "execution_count": 13,
   "metadata": {},
   "outputs": [
    {
     "data": {
      "text/plain": [
       "[23, 64, 53, 17, 88]"
      ]
     },
     "execution_count": 13,
     "metadata": {},
     "output_type": "execute_result"
    }
   ],
   "source": [
    "comparar_enteros(arr1,arr2)"
   ]
  },
  {
   "cell_type": "code",
   "execution_count": 14,
   "metadata": {},
   "outputs": [],
   "source": [
    "# EJERCICIO 3: modificar un string según condiciones \n",
    "\n",
    "def modificar_string(string):\n",
    "    string = string.lower()\n",
    "    for letra in string:\n",
    "        if string.count(letra) == 1:\n",
    "            string = string.replace(letra,\"(\")\n",
    "        elif string.count(letra) > 1:\n",
    "                string = string.replace(letra,\")\")\n",
    "    return string\n",
    "\n",
    "\n"
   ]
  },
  {
   "cell_type": "code",
   "execution_count": 16,
   "metadata": {},
   "outputs": [],
   "source": [
    "# EJERCICIO 3 OTRA SOLUCION \n",
    "\n",
    "def modificar_string2(string):\n",
    "    nuevo_string = \"\"\n",
    "    string = string.lower()\n",
    "    for letra in string:\n",
    "        if string.count(letra) == 1:\n",
    "            nuevo_string += \"(\"\n",
    "        else:\n",
    "            nuevo_string += \")\"\n",
    "    return nuevo_string"
   ]
  },
  {
   "cell_type": "code",
   "execution_count": 15,
   "metadata": {},
   "outputs": [
    {
     "data": {
      "text/plain": [
       "'((()(()()))))(()('"
      ]
     },
     "execution_count": 15,
     "metadata": {},
     "output_type": "execute_result"
    }
   ],
   "source": [
    "\n",
    "modificar_string(\"Ocvl@GamFLAFkixkS\")"
   ]
  },
  {
   "cell_type": "code",
   "execution_count": 17,
   "metadata": {},
   "outputs": [
    {
     "data": {
      "text/plain": [
       "'((()(()()))))(()('"
      ]
     },
     "execution_count": 17,
     "metadata": {},
     "output_type": "execute_result"
    }
   ],
   "source": [
    "modificar_string2(\"Ocvl@GamFLAFkixkS\")"
   ]
  },
  {
   "cell_type": "code",
   "execution_count": 18,
   "metadata": {},
   "outputs": [
    {
     "data": {
      "text/plain": [
       "15"
      ]
     },
     "execution_count": 18,
     "metadata": {},
     "output_type": "execute_result"
    }
   ],
   "source": [
    "### Strings a probar en la función modificar_string\n",
    "\n",
    "\"din\"      =>  \"(((\"\n",
    "\"recede\"   =>  \"()()()\"\n",
    "\"Success\"  =>  \")())())\"\n",
    "\"(( @\"     =>  \"))((\" \n",
    "\"Ocvl@GamFLAFkixkS\" => \"((()(()()))))(()(\" "
   ]
  },
  {
   "cell_type": "code",
   "execution_count": 2,
   "metadata": {},
   "outputs": [],
   "source": [
    "# BONUS 5: Crear una función que sirva como calculadora y reciba dos parámetros: una lista de números \n",
    "# y un string con la operación que queremos hacer (operaciones disponibles '+', '*', '-', '/')\n",
    "\n",
    "def calculadora_numeral(numeros,operacion):\n",
    "\n",
    "    if operacion == '+':\n",
    "\n",
    "        return sum(numeros)\n",
    "    \n",
    "    elif operacion == '*':\n",
    "\n",
    "        resultado = 1\n",
    "        for i in numeros:\n",
    "\n",
    "            resultado = resultado * i\n",
    "\n",
    "        return resultado\n",
    "\n",
    "    elif operacion == '-':\n",
    "\n",
    "        resultado = 2*numeros[0]\n",
    "\n",
    "        for i in numeros:\n",
    "\n",
    "            resultado = resultado - i \n",
    "        \n",
    "        return resultado\n",
    "    \n",
    "    elif operacion == '/':\n",
    "\n",
    "        resultado = numeros[0]**2\n",
    "\n",
    "        for i in numeros:\n",
    "\n",
    "            resultado = resultado / i\n",
    "\n",
    "        return resultado\n",
    "\n",
    "    else:\n",
    "\n",
    "        print('No se ha elegido una operación válida')\n"
   ]
  },
  {
   "cell_type": "code",
   "execution_count": 3,
   "metadata": {},
   "outputs": [
    {
     "data": {
      "text/plain": [
       "27"
      ]
     },
     "execution_count": 3,
     "metadata": {},
     "output_type": "execute_result"
    }
   ],
   "source": [
    "lista = [20,2,5]\n",
    "operacion = '+'\n",
    "calculadora_numeral(lista, operacion)"
   ]
  }
 ],
 "metadata": {
  "kernelspec": {
   "display_name": "Python 3.8.10 64-bit",
   "language": "python",
   "name": "python3"
  },
  "language_info": {
   "codemirror_mode": {
    "name": "ipython",
    "version": 3
   },
   "file_extension": ".py",
   "mimetype": "text/x-python",
   "name": "python",
   "nbconvert_exporter": "python",
   "pygments_lexer": "ipython3",
   "version": "3.8.10"
  },
  "orig_nbformat": 4,
  "vscode": {
   "interpreter": {
    "hash": "916dbcbb3f70747c44a77c7bcd40155683ae19c65e1c03b4aa3499c5328201f1"
   }
  }
 },
 "nbformat": 4,
 "nbformat_minor": 2
}

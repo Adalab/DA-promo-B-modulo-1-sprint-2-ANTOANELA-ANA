{
 "cells": [
  {
   "cell_type": "code",
   "execution_count": null,
   "metadata": {},
   "outputs": [],
   "source": [
    "# importamos libreria os\n",
    "import os"
   ]
  },
  {
   "cell_type": "code",
   "execution_count": 14,
   "metadata": {},
   "outputs": [
    {
     "data": {
      "text/plain": [
       "'c:\\\\Users\\\\antoa\\\\OneDrive\\\\Escritorio\\\\ADALAB\\\\ejercicios-de-adalab-pareja\\\\DA-promo-B-modulo-1-sprint-2-ANTOANELA-ANA\\\\python\\\\pair-1-mod-1-funciones'"
      ]
     },
     "execution_count": 14,
     "metadata": {},
     "output_type": "execute_result"
    }
   ],
   "source": [
    "# ej 1 mostrar la carpeta en la que estamos y lo guardamos en una variable\n",
    "ubicacion_carpeta = os.getcwd()\n",
    "ubicacion_carpeta\n"
   ]
  },
  {
   "cell_type": "code",
   "execution_count": 3,
   "metadata": {},
   "outputs": [],
   "source": [
    "# ej 2 crear carpeta\n",
    "os.mkdir(\"aprendiendo_ficheros\")"
   ]
  },
  {
   "cell_type": "code",
   "execution_count": 4,
   "metadata": {},
   "outputs": [],
   "source": [
    "# 3 \n",
    "os.mkdir(\"aprendiendo_ficheros\\datos\")"
   ]
  },
  {
   "cell_type": "code",
   "execution_count": 15,
   "metadata": {},
   "outputs": [
    {
     "data": {
      "text/plain": [
       "['aprendiendo_ficheros',\n",
       " 'pair-2-mod-1-funciones-II.ipynb',\n",
       " 'pair-programming-mod-1-leccion-9-funciones-II.ipynb',\n",
       " 'pair_programming-mod-1-leccion-11-ficheros.ipynb',\n",
       " 'pair_programming-mod-1-leccion-8-funciones-I.ipynb']"
      ]
     },
     "execution_count": 15,
     "metadata": {},
     "output_type": "execute_result"
    }
   ],
   "source": [
    "#listar lo que tenemos en las carpeta (directory)\n",
    "os.listdir()"
   ]
  },
  {
   "cell_type": "code",
   "execution_count": 16,
   "metadata": {},
   "outputs": [],
   "source": [
    "#crear fichero \"saludo\"\n",
    "with open(\"saludo.txt\", \"x\") as s:\n",
    "    s.write(\"buenos dias\")\n"
   ]
  },
  {
   "cell_type": "code",
   "execution_count": null,
   "metadata": {},
   "outputs": [],
   "source": [
    "# ej 4 cambiar el directorio a la carpeta \"datos\"\n"
   ]
  },
  {
   "cell_type": "code",
   "execution_count": 22,
   "metadata": {},
   "outputs": [],
   "source": [
    "# ej 5 cambiar el nombre de la carpeta \n",
    "os.rename(\"aprendiendo-ficheros\", \"primera-toma-contacto\")"
   ]
  },
  {
   "cell_type": "code",
   "execution_count": 21,
   "metadata": {},
   "outputs": [
    {
     "data": {
      "text/plain": [
       "['pair-2-mod-1-funciones-II.ipynb',\n",
       " 'pair-programming-mod-1-leccion-9-funciones-II.ipynb',\n",
       " 'pair_programming-mod-1-leccion-11-ficheros.ipynb',\n",
       " 'pair_programming-mod-1-leccion-8-funciones-I.ipynb',\n",
       " 'primera-toma-contactp',\n",
       " 'saludo.txt']"
      ]
     },
     "execution_count": 21,
     "metadata": {},
     "output_type": "execute_result"
    }
   ],
   "source": [
    "os.listdir()"
   ]
  }
 ],
 "metadata": {
  "kernelspec": {
   "display_name": "Python 3.10.5 64-bit (windows store)",
   "language": "python",
   "name": "python3"
  },
  "language_info": {
   "codemirror_mode": {
    "name": "ipython",
    "version": 3
   },
   "file_extension": ".py",
   "mimetype": "text/x-python",
   "name": "python",
   "nbconvert_exporter": "python",
   "pygments_lexer": "ipython3",
   "version": "3.10.5"
  },
  "orig_nbformat": 4,
  "vscode": {
   "interpreter": {
    "hash": "16a6203e80ab692cd59eb2fed3c5840057343ed93097c3c3229af5f56100ad25"
   }
  }
 },
 "nbformat": 4,
 "nbformat_minor": 2
}

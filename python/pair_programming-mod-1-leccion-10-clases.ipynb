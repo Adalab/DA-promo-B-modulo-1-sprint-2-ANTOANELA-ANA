{
 "cells": [
  {
   "cell_type": "code",
   "execution_count": null,
   "metadata": {},
   "outputs": [],
   "source": [
    "# Creamos la clase Empleados\n",
    "\n",
    "class Empleados:\n",
    "    pass\n"
   ]
  },
  {
   "cell_type": "code",
   "execution_count": 1,
   "metadata": {},
   "outputs": [],
   "source": [
    "# Definimos los atributos de nuestra clase (las características que tendrán nuestros empleados)\n",
    "\n",
    "class Empleados:\n",
    "\n",
    "    def __init__(self, nombre, apellido, edad, posicion_empresa, año_ingreso, dias_vacaciones, herramientas_trabajo):\n",
    "\n",
    "        self.nombre = nombre\n",
    "\n",
    "        self.apellido = apellido\n",
    "\n",
    "        self.edad = edad\n",
    "\n",
    "        self.posicion_empresa = posicion_empresa\n",
    "\n",
    "        self.año_ingreso = año_ingreso\n",
    "\n",
    "        self.dias_vacaciones = dias_vacaciones\n",
    "\n",
    "        self.herramientas_trabajo = [herramientas_trabajo]\n",
    "\n"
   ]
  },
  {
   "cell_type": "code",
   "execution_count": 5,
   "metadata": {},
   "outputs": [],
   "source": [
    "# Creamos una instancia para la clase Empleados. Esto quiere decir, creamos un objeto de nuestra clase:\n",
    "\n",
    "anto = Empleados(\"Antoanela\", \"Mateciuc\", 37, \"Data Analyst\", 2018, 30, [\"outlook\", \"word\", \"excel\"])"
   ]
  },
  {
   "cell_type": "code",
   "execution_count": 6,
   "metadata": {},
   "outputs": [
    {
     "data": {
      "text/plain": [
       "37"
      ]
     },
     "execution_count": 6,
     "metadata": {},
     "output_type": "execute_result"
    }
   ],
   "source": [
    "anto.edad"
   ]
  },
  {
   "cell_type": "code",
   "execution_count": 34,
   "metadata": {},
   "outputs": [],
   "source": [
    "\n",
    "\n",
    "class Empleados:\n",
    "\n",
    "    def __init__(self, nombre, apellido, edad, posicion_empresa, año_ingreso, dias_vacaciones, herramientas_trabajo):\n",
    "\n",
    "        self.nombre = nombre\n",
    "\n",
    "        self.apellido = apellido\n",
    "\n",
    "        self.edad = edad\n",
    "\n",
    "        self.posicion_empresa = posicion_empresa\n",
    "\n",
    "        self.año_ingreso = año_ingreso\n",
    "\n",
    "        self.dias_vacaciones = dias_vacaciones\n",
    "\n",
    "        self.herramientas_trabajo = [herramientas_trabajo]\n",
    "\n",
    "# Definimos los métodos de nuestra clase:\n",
    "\n",
    "    def descripcion(self):\n",
    "\n",
    "        return f\"El/ella es {self.nombre}, {self.posicion_empresa}, quien lleva con nosotros en la empresa desde {self.año_ingreso}. Además este año le quedan {self.dias_vacaciones}.\"\n",
    "\n",
    "    def calculo_vacaciones(self, vacaciones):\n",
    "\n",
    "        self.vacaciones = vacaciones\n",
    "\n",
    "        self.dias_vacaciones = self.dias_vacaciones - vacaciones\n",
    "\n",
    "        if self.dias_vacaciones == 0:\n",
    "\n",
    "            return \"Se acabaron las vacaciones\"\n",
    "        \n",
    "        elif self.dias_vacaciones < int(input(\"vacaciones_disfrutadas\")):\n",
    "\n",
    "            return \"No se puede ir tantos días de vacaciones\"\n",
    "\n",
    "        else:\n",
    "\n",
    "            return f\"{self.dias_vacaciones} días\"\n",
    "    \n",
    "    def cambiando_posicion(self):\n",
    "\n",
    "        if \"Python\" in self.herramientas_trabajo:\n",
    "\n",
    "            return \"Bien hecho!\"\n",
    "\n",
    "        else:\n",
    "\n",
    "            return \"Te recomendamos amigablemente que dejes Excel y empieces a usar Python\"\n",
    "\n",
    "    "
   ]
  },
  {
   "cell_type": "code",
   "execution_count": 35,
   "metadata": {},
   "outputs": [],
   "source": [
    "anto = Empleados(\"Antoanela\", \"Mateciuc\", 37, \"Data Analyst\", 2018, 30, [\"Outlook\", \"Word\", \"Excel\"])"
   ]
  },
  {
   "cell_type": "code",
   "execution_count": 33,
   "metadata": {},
   "outputs": [
    {
     "data": {
      "text/plain": [
       "'Se acabaron las vacaciones'"
      ]
     },
     "execution_count": 33,
     "metadata": {},
     "output_type": "execute_result"
    }
   ],
   "source": [
    "anto.calculo_vacaciones(30)"
   ]
  },
  {
   "cell_type": "code",
   "execution_count": 36,
   "metadata": {},
   "outputs": [
    {
     "data": {
      "text/plain": [
       "'Te recomendamos amigablemente que dejes Excel y empieces a usar Python'"
      ]
     },
     "execution_count": 36,
     "metadata": {},
     "output_type": "execute_result"
    }
   ],
   "source": [
    "anto.cambiando_posicion()"
   ]
  }
 ],
 "metadata": {
  "kernelspec": {
   "display_name": "Python 3.9.7 ('base')",
   "language": "python",
   "name": "python3"
  },
  "language_info": {
   "codemirror_mode": {
    "name": "ipython",
    "version": 3
   },
   "file_extension": ".py",
   "mimetype": "text/x-python",
   "name": "python",
   "nbconvert_exporter": "python",
   "pygments_lexer": "ipython3",
   "version": "3.9.7"
  },
  "orig_nbformat": 4,
  "vscode": {
   "interpreter": {
    "hash": "27c7e03acb1b122aa51a4d19f361f8e7d3205f0602534c325e31713df737767e"
   }
  }
 },
 "nbformat": 4,
 "nbformat_minor": 2
}

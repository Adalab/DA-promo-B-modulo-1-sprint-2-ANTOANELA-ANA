{
 "cells": [
  {
   "cell_type": "code",
   "execution_count": 1,
   "metadata": {},
   "outputs": [
    {
     "name": "stdout",
     "output_type": "stream",
     "text": [
      "CMySQLCursor: CREATE DATABASE mi_primerita_BBDD_Python\n"
     ]
    }
   ],
   "source": [
    "# Creando BBDD desde Python\n",
    "\n",
    "import mysql.connector\n",
    "\n",
    "cnx = mysql.connector.connect(user='root', password='AlumnaAdalab',\n",
    "                              host='127.0.0.1')\n",
    "\n",
    "\n",
    "mycursor = cnx.cursor()\n",
    "try:\n",
    "    mycursor.execute(\"CREATE DATABASE mi_primerita_BBDD_Python\")\n",
    "    print(mycursor)\n",
    "except mysql.connector.Error as err:\n",
    "    print(err)\n",
    "    print(\"Error Code:\", err.errno)\n",
    "    print(\"SQLSTATE\", err.sqlstate)\n",
    "    print(\"Message\", err.msg)"
   ]
  },
  {
   "cell_type": "code",
   "execution_count": 2,
   "metadata": {},
   "outputs": [],
   "source": [
    "# Función para añadir tablas a mi BBDD\n",
    "\n",
    "def crear_tablas(password_server, query):\n",
    "\n",
    "    import mysql.connector\n",
    "\n",
    "    cnx = mysql.connector.connect(user='root', password= password_server,\n",
    "                                host='127.0.0.1', database='mi_primerita_BBDD_Python')\n",
    "\n",
    "\n",
    "    mycursor = cnx.cursor()\n",
    "    try:\n",
    "        mycursor.execute(query)\n",
    "        print(mycursor)\n",
    "    except mysql.connector.Error as err:\n",
    "        print(err)\n",
    "        print(\"Error Code:\", err.errno)\n",
    "        print(\"SQLSTATE\", err.sqlstate)\n",
    "        print(\"Message\", err.msg)"
   ]
  },
  {
   "cell_type": "code",
   "execution_count": 3,
   "metadata": {},
   "outputs": [],
   "source": [
    "contraseña_servidor = \"AlumnaAdalab\""
   ]
  },
  {
   "cell_type": "code",
   "execution_count": 17,
   "metadata": {},
   "outputs": [],
   "source": [
    "tabla_zapatillas = \"\"\"CREATE TABLE Zapatillas (idZapatillas INT AUTO_INCREMENT NOT NULL PRIMARY KEY, Modelo VARCHAR(45), \n",
    "                    Color VARCHAR (45), Talla INT NOT NULL)\"\"\"\n",
    "\n",
    "tabla_clientes = \"\"\"CREATE TABLE Clientes (\n",
    "\t\tid_cliente INT NOT NULL AUTO_INCREMENT PRIMARY KEY,\n",
    "        nombre VARCHAR(45) NOT NULL,\n",
    "        numero_telefono INT NOT NULL,\n",
    "        email VARCHAR(45) NOT NULL,\n",
    "        direccion VARCHAR(45) NOT NULL,\n",
    "        ciudad VARCHAR(45) DEFAULT NULL,\n",
    "        provincia VARCHAR(45) NOT NULL, \n",
    "        pais VARCHAR(45) NOT NULL, \n",
    "        codigo_postal VARCHAR(45) NOT NULL)\"\"\"\n",
    "\n",
    "tabla_empleados = \"\"\"CREATE TABLE Empleados (id_empleado INT NOT NULL AUTO_INCREMENT PRIMARY KEY,\n",
    "        nombre VARCHAR(45) NOT NULL, \n",
    "        tienda VARCHAR(45) NOT NULL, \n",
    "        salario INT DEFAULT NULL, \n",
    "        fecha_incorporacion DATE NOT NULL)\"\"\"\n",
    "\n",
    "tabla_facturas = \"\"\"CREATE TABLE Facturas (id_factura INT NOT NULL AUTO_INCREMENT PRIMARY KEY,\n",
    "        numero_factura VARCHAR(45) NOT NULL,\n",
    "        fecha DATE NOT NULL,\n",
    "        idZapatillas INT NOT NULL,\n",
    "        id_empleado INT NOT NULL,\n",
    "        id_cliente INT NOT NULL,\n",
    "        CONSTRAINT fk_facturas_zapatillas\n",
    "        FOREIGN KEY (idZapatillas)\n",
    "            REFERENCES Zapatillas (idZapatillas),\n",
    "        CONSTRAINT fk_facturas_empleados\n",
    "        FOREIGN KEY (id_empleado)\n",
    "            REFERENCES Empleados (id_empleado),\n",
    "        CONSTRAINT fk_facturas_clientes\n",
    "        FOREIGN KEY (id_cliente)\n",
    "            REFERENCES Clientes (id_cliente))\"\"\""
   ]
  },
  {
   "cell_type": "code",
   "execution_count": 5,
   "metadata": {},
   "outputs": [
    {
     "name": "stdout",
     "output_type": "stream",
     "text": [
      "CMySQLCursor: CREATE TABLE Zapatillas (idZapatillas IN..\n"
     ]
    }
   ],
   "source": [
    "crear_tablas(contraseña_servidor, tabla_zapatillas)"
   ]
  },
  {
   "cell_type": "code",
   "execution_count": 10,
   "metadata": {},
   "outputs": [
    {
     "name": "stdout",
     "output_type": "stream",
     "text": [
      "CMySQLCursor: CREATE TABLE Clientes (\n",
      "\t\tid_cliente INT..\n"
     ]
    }
   ],
   "source": [
    "crear_tablas(contraseña_servidor, tabla_clientes)"
   ]
  },
  {
   "cell_type": "code",
   "execution_count": 12,
   "metadata": {},
   "outputs": [
    {
     "name": "stdout",
     "output_type": "stream",
     "text": [
      "CMySQLCursor: CREATE TABLE Empleados (id_empleado INT ..\n"
     ]
    }
   ],
   "source": [
    "crear_tablas(contraseña_servidor, tabla_empleados)"
   ]
  },
  {
   "cell_type": "code",
   "execution_count": 18,
   "metadata": {},
   "outputs": [
    {
     "name": "stdout",
     "output_type": "stream",
     "text": [
      "CMySQLCursor: CREATE TABLE Facturas (id_factura INT NO..\n"
     ]
    }
   ],
   "source": [
    "crear_tablas(contraseña_servidor, tabla_facturas)"
   ]
  },
  {
   "cell_type": "code",
   "execution_count": 19,
   "metadata": {},
   "outputs": [
    {
     "name": "stdout",
     "output_type": "stream",
     "text": [
      "('Clientes',)\n",
      "('Empleados',)\n",
      "('Facturas',)\n",
      "('Zapatillas',)\n"
     ]
    }
   ],
   "source": [
    "import mysql.connector\n",
    "\n",
    "mydb = mysql.connector.connect(\n",
    "              user='root', password='AlumnaAdalab',\n",
    "              host='127.0.0.1',\n",
    "              database='mi_primerita_BBDD_Python'\n",
    ")\n",
    "\n",
    "mycursor = mydb.cursor()\n",
    "\n",
    "mycursor.execute(\"SHOW TABLES\")\n",
    "\n",
    "for x in mycursor:\n",
    "  print(x)"
   ]
  }
 ],
 "metadata": {
  "kernelspec": {
   "display_name": "Python 3.9.7 ('base')",
   "language": "python",
   "name": "python3"
  },
  "language_info": {
   "codemirror_mode": {
    "name": "ipython",
    "version": 3
   },
   "file_extension": ".py",
   "mimetype": "text/x-python",
   "name": "python",
   "nbconvert_exporter": "python",
   "pygments_lexer": "ipython3",
   "version": "3.9.7"
  },
  "orig_nbformat": 4,
  "vscode": {
   "interpreter": {
    "hash": "0620710c65b0f5ccc651a2aa8870ae0eb4c70492424a8d7866846658189426a3"
   }
  }
 },
 "nbformat": 4,
 "nbformat_minor": 2
}

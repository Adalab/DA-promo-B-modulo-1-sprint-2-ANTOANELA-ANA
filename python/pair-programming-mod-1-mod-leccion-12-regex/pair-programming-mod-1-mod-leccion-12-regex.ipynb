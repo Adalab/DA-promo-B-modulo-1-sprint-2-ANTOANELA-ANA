{
 "cells": [
  {
   "cell_type": "code",
   "execution_count": 15,
   "metadata": {},
   "outputs": [],
   "source": [
    "import re"
   ]
  },
  {
   "cell_type": "code",
   "execution_count": 16,
   "metadata": {},
   "outputs": [],
   "source": [
    "with open('email.txt','r') as file:\n",
    "    email = file.read() "
   ]
  },
  {
   "cell_type": "code",
   "execution_count": 25,
   "metadata": {},
   "outputs": [],
   "source": [
    "# EJERCICIO 1: QUIEN HA ENVIADO EL CORREO (emails)\n",
    "# Definimos la función para extraer los remitentes (emails)\n",
    "\n",
    "def remitente_email(correo):\n",
    "    lista_remitente_email= []\n",
    "    info_remitente = re.findall('From:.*',correo)\n",
    "    for x in range(len(info_remitente)):\n",
    "        lista_remitente_email.extend(re.findall(\"\\w+@\\w+\\.com\",info_remitente[x]))\n",
    "    return lista_remitente_email\n"
   ]
  },
  {
   "cell_type": "code",
   "execution_count": 62,
   "metadata": {},
   "outputs": [
    {
     "data": {
      "text/plain": [
       "['bensul2004nng@spinfinder.com', 'james_ngola2002@maktoob.com']"
      ]
     },
     "execution_count": 62,
     "metadata": {},
     "output_type": "execute_result"
    }
   ],
   "source": [
    "correos_remitentes = remitente_email(email)\n",
    "correos_remitentes"
   ]
  },
  {
   "cell_type": "code",
   "execution_count": 60,
   "metadata": {},
   "outputs": [],
   "source": [
    "# EJERCICIO 2: CUAL ES EL NOMBRE DE LA PERSONA QUE HA ENVIADO EL CORREO\n",
    "# Definimos la función para extraer los remitentes (nombres)\n",
    "\n",
    "def remitente_nombre(correo):\n",
    "    lista_nombre_email = []\n",
    "    info_remitente = re.findall('From:.*',correo)\n",
    "    for n in range(len(info_remitente)):\n",
    "        lista_nombre_email.extend(re.findall(\"\\w+\\s\\w+\",info_remitente[n]))\n",
    "    return lista_nombre_email"
   ]
  },
  {
   "cell_type": "code",
   "execution_count": 63,
   "metadata": {},
   "outputs": [
    {
     "data": {
      "text/plain": [
       "['Ben Suleman', 'JAMES NGOLA']"
      ]
     },
     "execution_count": 63,
     "metadata": {},
     "output_type": "execute_result"
    }
   ],
   "source": [
    "nombres_remitente = remitente_nombre(email)\n",
    "nombres_remitente"
   ]
  },
  {
   "cell_type": "code",
   "execution_count": 31,
   "metadata": {},
   "outputs": [],
   "source": [
    "# EJERCICIO 3: QUÉ DÍA SE ENVIÓ EL EMAIL\n",
    "# Definimos la función para extraer las fechas en las que se enviaron los correos\n",
    "\n",
    "def fecha_email(correo):\n",
    "    lista_fecha_email = []\n",
    "    date = re.findall('Date:.*',correo)\n",
    "    for f in range(len(date)):\n",
    "        lista_fecha_email.extend(re.findall('\\w+\\,\\s\\d+\\s\\w+\\s\\d+',date[f]))\n",
    "    return lista_fecha_email "
   ]
  },
  {
   "cell_type": "code",
   "execution_count": 64,
   "metadata": {},
   "outputs": [
    {
     "data": {
      "text/plain": [
       "['Thu, 31 Oct 2002', 'Thu, 31 Oct 2002']"
      ]
     },
     "execution_count": 64,
     "metadata": {},
     "output_type": "execute_result"
    }
   ],
   "source": [
    "fechas_envios = fecha_email(email)\n",
    "fechas_envios"
   ]
  },
  {
   "cell_type": "code",
   "execution_count": 43,
   "metadata": {},
   "outputs": [],
   "source": [
    "# EJERCICIO 4: CUAL ES EL ASUNTO DEL EMAIL\n",
    "# Definimos la función para extraer el asunto de los correos enviados\n",
    "\n",
    "def asunto_email(correo):\n",
    "    lista_asunto_email = []\n",
    "    asunto = re.findall('Subject:.*',email)\n",
    "    for a in range(len(asunto)):\n",
    "        lista_asunto_email.extend(re.findall('[^Subject\\:].*',asunto[a]))\n",
    "    return lista_asunto_email "
   ]
  },
  {
   "cell_type": "code",
   "execution_count": 65,
   "metadata": {},
   "outputs": [
    {
     "data": {
      "text/plain": [
       "[' URGENT ASSISTANCE /RELATIONSHIP (P)',\n",
       " ' URGENT BUSINESS ASSISTANCE AND PARTNERSHIP']"
      ]
     },
     "execution_count": 65,
     "metadata": {},
     "output_type": "execute_result"
    }
   ],
   "source": [
    "asuntos_correos = asunto_email(email)\n",
    "asuntos_correos"
   ]
  },
  {
   "cell_type": "code",
   "execution_count": 66,
   "metadata": {},
   "outputs": [
    {
     "data": {
      "text/plain": [
       "{'email': ['bensul2004nng@spinfinder.com', 'james_ngola2002@maktoob.com'],\n",
       " 'nombre': ['Ben Suleman', 'JAMES NGOLA'],\n",
       " 'fecha': ['Thu, 31 Oct 2002', 'Thu, 31 Oct 2002'],\n",
       " 'asunto': [' URGENT ASSISTANCE /RELATIONSHIP (P)',\n",
       "  ' URGENT BUSINESS ASSISTANCE AND PARTNERSHIP']}"
      ]
     },
     "execution_count": 66,
     "metadata": {},
     "output_type": "execute_result"
    }
   ],
   "source": [
    "# EJERCICIO 5: Guardar todos los resultados en un diccionario\n",
    "# SIN FUNCIÓN\n",
    "\n",
    "dict_datos_email = {'email':correos_remitentes, 'nombre':nombres_remitente,\n",
    "'fecha':fechas_envios,'asunto':asuntos_correos}\n",
    "dict_datos_email"
   ]
  },
  {
   "cell_type": "code",
   "execution_count": 67,
   "metadata": {},
   "outputs": [],
   "source": [
    "# Definiendo función para agregar datos a un diccionario\n",
    "\n",
    "def dicc_datos(email):\n",
    "\n",
    "    lista_keys = ['correo electronico', 'nombre remitente', 'fecha envío', 'asunto']\n",
    "    lista_values = [correos_remitentes, nombres_remitente, fechas_envios, asuntos_correos]\n",
    "\n",
    "    datos_email = dict(zip(lista_keys, lista_values))\n",
    "    return datos_email\n"
   ]
  },
  {
   "cell_type": "code",
   "execution_count": 68,
   "metadata": {},
   "outputs": [
    {
     "name": "stdout",
     "output_type": "stream",
     "text": [
      "{'correo electronico': ['bensul2004nng@spinfinder.com', 'james_ngola2002@maktoob.com'], 'nombre remitente': ['Ben Suleman', 'JAMES NGOLA'], 'fecha envío': ['Thu, 31 Oct 2002', 'Thu, 31 Oct 2002'], 'asunto': [' URGENT ASSISTANCE /RELATIONSHIP (P)', ' URGENT BUSINESS ASSISTANCE AND PARTNERSHIP']}\n"
     ]
    }
   ],
   "source": [
    "datos_email = dicc_datos(email)\n",
    "print(datos_email)"
   ]
  }
 ],
 "metadata": {
  "kernelspec": {
   "display_name": "Python 3.8.10 64-bit",
   "language": "python",
   "name": "python3"
  },
  "language_info": {
   "codemirror_mode": {
    "name": "ipython",
    "version": 3
   },
   "file_extension": ".py",
   "mimetype": "text/x-python",
   "name": "python",
   "nbconvert_exporter": "python",
   "pygments_lexer": "ipython3",
   "version": "3.8.10"
  },
  "orig_nbformat": 4,
  "vscode": {
   "interpreter": {
    "hash": "916dbcbb3f70747c44a77c7bcd40155683ae19c65e1c03b4aa3499c5328201f1"
   }
  }
 },
 "nbformat": 4,
 "nbformat_minor": 2
}

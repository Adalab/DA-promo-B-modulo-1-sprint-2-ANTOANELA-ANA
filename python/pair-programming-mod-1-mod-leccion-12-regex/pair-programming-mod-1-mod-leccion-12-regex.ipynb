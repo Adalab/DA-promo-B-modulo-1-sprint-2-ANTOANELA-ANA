{
 "cells": [
  {
   "cell_type": "code",
   "execution_count": 2,
   "metadata": {},
   "outputs": [],
   "source": [
    "import re"
   ]
  },
  {
   "cell_type": "code",
   "execution_count": 3,
   "metadata": {},
   "outputs": [],
   "source": [
    "with open('email.txt','r') as file:\n",
    "    email = file.read() "
   ]
  },
  {
   "cell_type": "code",
   "execution_count": 4,
   "metadata": {},
   "outputs": [],
   "source": [
    "# EJERCICIO 1: QUIEN HA ENVIADO EL CORREO (email)\n",
    "\n",
    "info_remitente = re.findall('From:.*',email)"
   ]
  },
  {
   "cell_type": "code",
   "execution_count": 5,
   "metadata": {},
   "outputs": [
    {
     "data": {
      "text/plain": [
       "['From: \"Mr. Ben Suleman\" <bensul2004nng@spinfinder.com>',\n",
       " 'From: \"MR. JAMES NGOLA.\" <james_ngola2002@maktoob.com>']"
      ]
     },
     "execution_count": 5,
     "metadata": {},
     "output_type": "execute_result"
    }
   ],
   "source": [
    "info_remitente"
   ]
  },
  {
   "cell_type": "code",
   "execution_count": 53,
   "metadata": {},
   "outputs": [],
   "source": [
    "remitente_email1= []\n",
    "for x in range(len(info_remitente)):\n",
    "    remitente_email1.append(re.findall(\"\\w+@\\w+\\.com\",info_remitente[x]))\n"
   ]
  },
  {
   "cell_type": "code",
   "execution_count": 64,
   "metadata": {},
   "outputs": [
    {
     "data": {
      "text/plain": [
       "[['bensul2004nng@spinfinder.com'], ['james_ngola2002@maktoob.com']]"
      ]
     },
     "execution_count": 64,
     "metadata": {},
     "output_type": "execute_result"
    }
   ],
   "source": [
    "remitente_email1"
   ]
  },
  {
   "cell_type": "code",
   "execution_count": 76,
   "metadata": {},
   "outputs": [],
   "source": [
    "# definir la funcion\n",
    "def remitente_email(email):\n",
    "    remitente_email1= []\n",
    "    info_remitente = re.findall('From:.*',email)\n",
    "    for x in range(len(info_remitente)):\n",
    "        remitente_email1.append(re.findall(\"\\w+@\\w+\\.com\",info_remitente[x]))\n",
    "    return remitente_email1\n"
   ]
  },
  {
   "cell_type": "code",
   "execution_count": 79,
   "metadata": {},
   "outputs": [
    {
     "ename": "TypeError",
     "evalue": "'list' object is not callable",
     "output_type": "error",
     "traceback": [
      "\u001b[0;31m---------------------------------------------------------------------------\u001b[0m",
      "\u001b[0;31mTypeError\u001b[0m                                 Traceback (most recent call last)",
      "\u001b[0;32m/tmp/ipykernel_3572/2023817651.py\u001b[0m in \u001b[0;36m<module>\u001b[0;34m\u001b[0m\n\u001b[0;32m----> 1\u001b[0;31m \u001b[0mremitente_email1\u001b[0m\u001b[0;34m(\u001b[0m\u001b[0memail\u001b[0m\u001b[0;34m)\u001b[0m\u001b[0;34m\u001b[0m\u001b[0;34m\u001b[0m\u001b[0m\n\u001b[0m",
      "\u001b[0;31mTypeError\u001b[0m: 'list' object is not callable"
     ]
    }
   ],
   "source": [
    "remitente_email1(email)\n"
   ]
  },
  {
   "cell_type": "code",
   "execution_count": 36,
   "metadata": {},
   "outputs": [
    {
     "data": {
      "text/plain": [
       "['From: \"Mr. Ben Suleman\" <bensul2004nng@spinfinder.com>',\n",
       " 'From: \"MR. JAMES NGOLA.\" <james_ngola2002@maktoob.com>']"
      ]
     },
     "execution_count": 36,
     "metadata": {},
     "output_type": "execute_result"
    }
   ],
   "source": [
    "# EJERCICIO 2: CUAL ES EL NOMBRE DE LA PERSONA QUE HA ENVIADO EL CORREO\n",
    "\n",
    "info_remitente = re.findall('From:.*',email)\n",
    "info_remitente"
   ]
  },
  {
   "cell_type": "code",
   "execution_count": 13,
   "metadata": {},
   "outputs": [
    {
     "name": "stdout",
     "output_type": "stream",
     "text": [
      "['Ben Suleman']\n",
      "['JAMES NGOLA']\n"
     ]
    }
   ],
   "source": [
    "for x in range(len(info_remitente)):\n",
    "    print(re.findall(\"\\w+\\s\\w+\",info_remitente[x]))"
   ]
  },
  {
   "cell_type": "code",
   "execution_count": 29,
   "metadata": {},
   "outputs": [],
   "source": [
    "#definir la funcion:\n",
    "def nombre_remitente(email):\n",
    "    info_remitente = re.findall('From:.*',email)\n",
    "    for x in range(len(info_remitente)):\n",
    "        print(re.findall(\"\\w+\\s\\w+\",info_remitente[x]))\n",
    "    return nombre_remitente"
   ]
  },
  {
   "cell_type": "code",
   "execution_count": 30,
   "metadata": {},
   "outputs": [
    {
     "name": "stdout",
     "output_type": "stream",
     "text": [
      "['Ben Suleman']\n",
      "['JAMES NGOLA']\n"
     ]
    },
    {
     "data": {
      "text/plain": [
       "<function __main__.nombre_remitente(email)>"
      ]
     },
     "execution_count": 30,
     "metadata": {},
     "output_type": "execute_result"
    }
   ],
   "source": [
    "nombre_remitente(email)"
   ]
  },
  {
   "cell_type": "code",
   "execution_count": 15,
   "metadata": {},
   "outputs": [
    {
     "data": {
      "text/plain": [
       "['Date: Thu, 31 Oct 2002 05:10:00', 'Date: Thu, 31 Oct 2002 02:38:20 +0000']"
      ]
     },
     "execution_count": 15,
     "metadata": {},
     "output_type": "execute_result"
    }
   ],
   "source": [
    "# EJERCICIO 3: QUÉ DÍA SE ENVIÓ EL EMAIL\n",
    "\n",
    "date = re.findall('Date:.*',email)\n",
    "date"
   ]
  },
  {
   "cell_type": "code",
   "execution_count": 18,
   "metadata": {},
   "outputs": [
    {
     "name": "stdout",
     "output_type": "stream",
     "text": [
      "['Thu, 31 Oct 2002']\n",
      "['Thu, 31 Oct 2002']\n"
     ]
    }
   ],
   "source": [
    "for x in range(len(date)):\n",
    "    print(re.findall('\\w+\\,\\s\\d+\\s\\w+\\s\\d+',date[x]))"
   ]
  },
  {
   "cell_type": "code",
   "execution_count": 32,
   "metadata": {},
   "outputs": [],
   "source": [
    "# definir la funcion:\n",
    "def fecha_email(email):\n",
    "    date = re.findall('Date:.*',email)\n",
    "    for x in range(len(date)):\n",
    "        print(re.findall('\\w+\\,\\s\\d+\\s\\w+\\s\\d+',date[x]))\n",
    "    return fecha_email\n"
   ]
  },
  {
   "cell_type": "code",
   "execution_count": 33,
   "metadata": {},
   "outputs": [
    {
     "name": "stdout",
     "output_type": "stream",
     "text": [
      "['Thu, 31 Oct 2002']\n",
      "['Thu, 31 Oct 2002']\n"
     ]
    },
    {
     "data": {
      "text/plain": [
       "<function __main__.fecha_email(email)>"
      ]
     },
     "execution_count": 33,
     "metadata": {},
     "output_type": "execute_result"
    }
   ],
   "source": [
    "fecha_email(email)"
   ]
  },
  {
   "cell_type": "code",
   "execution_count": 20,
   "metadata": {},
   "outputs": [
    {
     "data": {
      "text/plain": [
       "['Subject: URGENT ASSISTANCE /RELATIONSHIP (P)',\n",
       " 'Subject: URGENT BUSINESS ASSISTANCE AND PARTNERSHIP']"
      ]
     },
     "execution_count": 20,
     "metadata": {},
     "output_type": "execute_result"
    }
   ],
   "source": [
    "# EJERCICIO 4: CUAL ES EL ASUNTO DEL EMAIL\n",
    "\n",
    "subject = re.findall('Subject:.*',email)\n",
    "subject"
   ]
  },
  {
   "cell_type": "code",
   "execution_count": 21,
   "metadata": {},
   "outputs": [
    {
     "name": "stdout",
     "output_type": "stream",
     "text": [
      "[' URGENT ASSISTANCE /RELATIONSHIP (P)']\n",
      "[' URGENT BUSINESS ASSISTANCE AND PARTNERSHIP']\n"
     ]
    }
   ],
   "source": [
    "for x in range(len(subject)):\n",
    "    print( re.findall('[^Subject\\:].*',subject[x]))"
   ]
  },
  {
   "cell_type": "code",
   "execution_count": null,
   "metadata": {},
   "outputs": [],
   "source": [
    "# 5 Guarda todos los resultados en un diccionario\n"
   ]
  },
  {
   "cell_type": "code",
   "execution_count": 70,
   "metadata": {},
   "outputs": [
    {
     "name": "stdout",
     "output_type": "stream",
     "text": [
      "['bensul2004nng@spinfinder.com']\n",
      "['james_ngola2002@maktoob.com']\n",
      "['Ben Suleman']\n",
      "['JAMES NGOLA']\n"
     ]
    }
   ],
   "source": [
    "dict_datos_email = {'email':remitente_email(email), 'nombre':nombre_remitente(email),'fecha':fecha_email,'asunto':subject}"
   ]
  },
  {
   "cell_type": "code",
   "execution_count": 71,
   "metadata": {},
   "outputs": [
    {
     "data": {
      "text/plain": [
       "{'email': <function __main__.remitente_email(email)>,\n",
       " 'nombre': <function __main__.nombre_remitente(email)>,\n",
       " 'fecha': <function __main__.fecha_email(email)>,\n",
       " 'asunto': ['Subject: URGENT ASSISTANCE /RELATIONSHIP (P)',\n",
       "  'Subject: URGENT BUSINESS ASSISTANCE AND PARTNERSHIP']}"
      ]
     },
     "execution_count": 71,
     "metadata": {},
     "output_type": "execute_result"
    }
   ],
   "source": [
    "dict_datos_email"
   ]
  },
  {
   "cell_type": "code",
   "execution_count": null,
   "metadata": {},
   "outputs": [],
   "source": []
  },
  {
   "cell_type": "code",
   "execution_count": 41,
   "metadata": {},
   "outputs": [],
   "source": [
    "def dicc_datos(email):\n",
    "\n",
    "    direcciones_email = remitente_email(email)\n",
    "    nombres_email = nombre_remitente(email)\n",
    "    fechas = fecha_email(email)\n",
    "    asuntos = subject(email)\n",
    "\n",
    "    lista_keys = ['direcciones email', 'nombres email', 'fechas', 'asuntos']\n",
    "    lista_values = [remitente_email, nombre_remitente, fecha_email, subject]\n",
    "\n",
    "    datos_email = dict(zip(lista_keys, lista_values))\n",
    "    return datos_email\n"
   ]
  },
  {
   "cell_type": "code",
   "execution_count": 56,
   "metadata": {},
   "outputs": [
    {
     "name": "stdout",
     "output_type": "stream",
     "text": [
      "['bensul2004nng@spinfinder.com']\n",
      "['james_ngola2002@maktoob.com']\n",
      "['Ben Suleman']\n",
      "['JAMES NGOLA']\n",
      "['Thu, 31 Oct 2002']\n",
      "['Thu, 31 Oct 2002']\n"
     ]
    },
    {
     "ename": "TypeError",
     "evalue": "'list' object is not callable",
     "output_type": "error",
     "traceback": [
      "\u001b[0;31m---------------------------------------------------------------------------\u001b[0m",
      "\u001b[0;31mTypeError\u001b[0m                                 Traceback (most recent call last)",
      "\u001b[0;32m/tmp/ipykernel_3572/482492480.py\u001b[0m in \u001b[0;36m<module>\u001b[0;34m\u001b[0m\n\u001b[0;32m----> 1\u001b[0;31m \u001b[0mdatos_email\u001b[0m \u001b[0;34m=\u001b[0m \u001b[0mdicc_datos\u001b[0m\u001b[0;34m(\u001b[0m\u001b[0memail\u001b[0m\u001b[0;34m)\u001b[0m\u001b[0;34m\u001b[0m\u001b[0;34m\u001b[0m\u001b[0m\n\u001b[0m\u001b[1;32m      2\u001b[0m \u001b[0mprint\u001b[0m\u001b[0;34m(\u001b[0m\u001b[0mdatos_email\u001b[0m\u001b[0;34m)\u001b[0m\u001b[0;34m\u001b[0m\u001b[0;34m\u001b[0m\u001b[0m\n",
      "\u001b[0;32m/tmp/ipykernel_3572/671163647.py\u001b[0m in \u001b[0;36mdicc_datos\u001b[0;34m(email)\u001b[0m\n\u001b[1;32m      4\u001b[0m     \u001b[0mnombres_email\u001b[0m \u001b[0;34m=\u001b[0m \u001b[0mnombre_remitente\u001b[0m\u001b[0;34m(\u001b[0m\u001b[0memail\u001b[0m\u001b[0;34m)\u001b[0m\u001b[0;34m\u001b[0m\u001b[0;34m\u001b[0m\u001b[0m\n\u001b[1;32m      5\u001b[0m     \u001b[0mfechas\u001b[0m \u001b[0;34m=\u001b[0m \u001b[0mfecha_email\u001b[0m\u001b[0;34m(\u001b[0m\u001b[0memail\u001b[0m\u001b[0;34m)\u001b[0m\u001b[0;34m\u001b[0m\u001b[0;34m\u001b[0m\u001b[0m\n\u001b[0;32m----> 6\u001b[0;31m     \u001b[0masuntos\u001b[0m \u001b[0;34m=\u001b[0m \u001b[0msubject\u001b[0m\u001b[0;34m(\u001b[0m\u001b[0memail\u001b[0m\u001b[0;34m)\u001b[0m\u001b[0;34m\u001b[0m\u001b[0;34m\u001b[0m\u001b[0m\n\u001b[0m\u001b[1;32m      7\u001b[0m \u001b[0;34m\u001b[0m\u001b[0m\n\u001b[1;32m      8\u001b[0m     \u001b[0mlista_keys\u001b[0m \u001b[0;34m=\u001b[0m \u001b[0;34m[\u001b[0m\u001b[0;34m'direcciones email'\u001b[0m\u001b[0;34m,\u001b[0m \u001b[0;34m'nombres email'\u001b[0m\u001b[0;34m,\u001b[0m \u001b[0;34m'fechas'\u001b[0m\u001b[0;34m,\u001b[0m \u001b[0;34m'asuntos'\u001b[0m\u001b[0;34m]\u001b[0m\u001b[0;34m\u001b[0m\u001b[0;34m\u001b[0m\u001b[0m\n",
      "\u001b[0;31mTypeError\u001b[0m: 'list' object is not callable"
     ]
    }
   ],
   "source": [
    "datos_email = dicc_datos(email)\n",
    "print(datos_email)"
   ]
  },
  {
   "cell_type": "code",
   "execution_count": null,
   "metadata": {},
   "outputs": [],
   "source": []
  }
 ],
 "metadata": {
  "kernelspec": {
   "display_name": "Python 3.9.7 ('base')",
   "language": "python",
   "name": "python3"
  },
  "language_info": {
   "codemirror_mode": {
    "name": "ipython",
    "version": 3
   },
   "file_extension": ".py",
   "mimetype": "text/x-python",
   "name": "python",
   "nbconvert_exporter": "python",
   "pygments_lexer": "ipython3",
   "version": "3.9.7"
  },
  "orig_nbformat": 4,
  "vscode": {
   "interpreter": {
    "hash": "e52e54b208979dc3580fb1371da7079de391a2363b0575de5d9739fd636c0787"
   }
  }
 },
 "nbformat": 4,
 "nbformat_minor": 2
}
